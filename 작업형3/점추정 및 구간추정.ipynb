{
 "cells": [
  {
   "cell_type": "markdown",
   "metadata": {},
   "source": [
    "## 점추정 및 구간추정"
   ]
  },
  {
   "cell_type": "markdown",
   "metadata": {},
   "source": [
    "## 문제"
   ]
  },
  {
   "cell_type": "markdown",
   "metadata": {},
   "source": [
    "데이터셋은 어떤 도시의 일일 평균 온도 입니다.\n",
    "\n",
    "- 점추정: 데이터셋을 기반으로 이 도시의 평균 연간 온도를 점추정하세요. (반올림하여 소수 둘째자리까지)\n",
    "- 구간추정: 95% 신뢰수준에서 이 도시의 평균 연간 온도에 대한 신뢰구간을 구하세요. (반올림하여 소수 둘째자리까지)"
   ]
  },
  {
   "cell_type": "markdown",
   "metadata": {},
   "source": []
  },
  {
   "cell_type": "code",
   "execution_count": null,
   "metadata": {},
   "outputs": [],
   "source": [
    "import pandas as pd\n",
    "from scipy import stats\n",
    "# CSV 파일 불러오기\n",
    "temperature_data = pd.read_csv(\"/kaggle/input/bigdatacertificationkr/daily_temperatures.csv\")\n",
    "\n",
    "# 점추정: 샘플 평균 계산\n",
    "sample_mean = temperature_data['Daily Average Temperature'].mean()\n",
    "\n",
    "# 구간추정: 샘플 표준편차 계산 및 신뢰구간 계산\n",
    "confidence_level = 0.95\n",
    "sample_std = temperature_data['Daily Average Temperature'].std()  # 자유도 n-1로 설정\n",
    "n_samples = len(temperature_data)\n",
    "\n",
    "# 95% 신뢰구간 계산\n",
    "confidence_interval = stats.t.interval(confidence_level, df=n_samples-1, loc=sample_mean, scale=sample_std/(n_samples**0.5))\n",
    "\n",
    "sample_mean, confidence_interval"
   ]
  }
 ],
 "metadata": {
  "language_info": {
   "name": "python"
  }
 },
 "nbformat": 4,
 "nbformat_minor": 2
}
