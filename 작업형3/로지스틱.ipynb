{
 "cells": [
  {
   "cell_type": "markdown",
   "metadata": {},
   "source": [
    "## 로지스틱"
   ]
  },
  {
   "cell_type": "markdown",
   "metadata": {},
   "source": [
    "고객 정보를 나타낸 데이터이다. 주어진 데이터에서 500개 중 앞에서부터 350개는 train으로, 150개는 test 데이터로 나눈다. 모델을 학습(적합)할 때는 train 데이터를 사용하고, 예측할 때는 test 데이터를 사용한다. 모델은 로지스틱 회귀를 써서 고객이 특정 제품을 구매할지 여부를 예측하되, 페널티는 부과하지 않는다.\n",
    "\n",
    "종속변수: purchase (0: 구매 안 함, 1: 구매 함)\n",
    "\n",
    "문제 1-1. income 변수를 독립변수로 purchase를 종속변수로 사용하여 로지스틱 회귀 모형을 만들고, income 변수가 한 단위 증가할 때 구매할 오즈비 값을 계산하시오. (반올림하여 소수 넷째자리까지 계산)\n",
    "\n",
    "문제 1-2. 독립변수 income만 사용해 학습한 모델에서 test 데이터의 purchase를 예측하고, accuracy (정확도)를 구하시오. (반올림하여 소수 셋째자리까지 계산)\n",
    "\n",
    "문제 1-3. 독립변수 income만 사용해 학습한 모델의 로짓 우도를 계산하시오.\n",
    "\n",
    "문제 1-4. 독립변수 income만 사용해 학습한 모델의 유의확률(p-value)를 구하시오."
   ]
  },
  {
   "cell_type": "code",
   "execution_count": null,
   "metadata": {},
   "outputs": [],
   "source": [
    "import pandas as pd\n",
    "import numpy as np\n",
    "from statsmodels.formula.api import logit\n",
    "\n",
    "# 데이터셋 분할\n",
    "train = df.iloc[:350]\n",
    "test = df.iloc[350:]\n",
    "\n",
    "# 문제 1-1: income 변수를 독립변수로 purchase를 종속변수로 사용하여 로지스틱 회귀 모형을 만들고, income 변수가 한 단위 증가할 때 구매할 오즈비 값을 계산\n",
    "model_income = logit('purchase ~ income', data=train)\n",
    "result_income = model_income.fit()\n",
    "\n",
    "# 오즈비 계산\n",
    "odds_ratio_income= np.exp(result_income.params['income'])\n",
    "\n",
    "\n",
    "# 문제 1-2: 독립변수 income만 사용해 학습한 모델에서 test 데이터의 purchase를 예측하고, 정확도 계산\n",
    "predictions_income = result_income.predict(test)\n",
    "predicted_classes_income = (predictions_income > 0.5).astype(int)\n",
    "\n",
    "# 정확도 계산\n",
    "accuracy_income = (predicted_classes_income == test['purchase']).mean()\n",
    "\n",
    "# 문제 1-3: 독립변수 income만 사용해 학습한 모델의 로짓 우도 계산\n",
    "log_likelihood_income = result_income.llf\n",
    "\n",
    "# 문제 1-4: 독립변수 income만 사용해 학습한 모델의 유의확률(p-value) 계산\n",
    "p_value_income = result_income.pvalues['income']\n",
    "\n",
    "odds_ratio_income, accuracy_income, log_likelihood_income, p_value_income"
   ]
  },
  {
   "cell_type": "markdown",
   "metadata": {},
   "source": [
    "Pclass, Gender, sibsp, parch를 독립변수로 사용하여 로지스틱 회귀모형을 실시하였을 때, parch변수의 계수값은? 단, Pclass는 범주형 변수이다"
   ]
  },
  {
   "cell_type": "code",
   "execution_count": null,
   "metadata": {},
   "outputs": [],
   "source": [
    "import pandas as pd\n",
    "from statsmodels.formula.api import logit\n",
    "\n",
    "df = pd.read_csv(\"/kaggle/input/bigdatacertificationkr/Titanic.csv\")\n",
    "formula = \"Survived ~ C(Pclass) + Gender + SibSp + Parch\"\n",
    "model = logit(formula, data=df).fit()\n",
    "model.params"
   ]
  }
 ],
 "metadata": {
  "language_info": {
   "name": "python"
  }
 },
 "nbformat": 4,
 "nbformat_minor": 2
}
