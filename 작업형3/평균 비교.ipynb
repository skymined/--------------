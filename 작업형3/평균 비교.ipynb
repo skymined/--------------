{
 "cells": [
  {
   "cell_type": "markdown",
   "metadata": {},
   "source": [
    "## 평균비교\n",
    "- t통계량, f통계량"
   ]
  },
  {
   "cell_type": "markdown",
   "metadata": {},
   "source": [
    "## 문제 : 두 교육방법의 효과 비교"
   ]
  },
  {
   "cell_type": "markdown",
   "metadata": {},
   "source": [
    "연구자는 두 가지 다른 교육 방법이 학생들의 성적에 미치는 영향을 비교하고자 합니다. 연구자는 무작위로 선발된 20명의 학생들을 두 그룹으로 나누어 한 그룹에는 교육 방법 A를, 다른 그룹에는 교육 방법 B를 적용합니다. 교육이 끝난 후, 두 그룹의 성적을 비교하기 위해 독립 표본 t-검정과 ANOVA F-검정을 실시하려고 합니다.\n",
    "\n",
    "다음은 두 그룹의 성적입니다: 다음의 두 가지 검정을 사용하여 두 교육 방법 간의 성적 차이가 통계적으로 유의한지를 검증하세요\n",
    "\n",
    "1. 독립 표본 t-검정을 실시하여 t 통계량을 구하세요.\n",
    "2. 독립 표본 t-검정을 실시하여 p-값을 구하세요.\n",
    "3. ANOVA F-검정을 실시하여 F 통계량을 구하세요.\n",
    "4. ANOVA F-검정을 실시하여 p-값을 구하세요."
   ]
  },
  {
   "cell_type": "code",
   "execution_count": null,
   "metadata": {},
   "outputs": [],
   "source": [
    "import pandas as pd\n",
    "df = pd.DataFrame({\n",
    "    'A':[77, 75, 82, 80, 81, 83, 84, 76, 75, 87],\n",
    "    'B':[80, 74, 77, 79, 71, 74, 78, 69, 70, 72],\n",
    "})\n",
    "\n",
    "from scipy import stats\n",
    "\n",
    "#  독립 표본 t검정\n",
    "t_stat, p_value_t = stats.ttest_ind(df['A'], df['B'])\n",
    "\n",
    "# ANOVA-F 검정\n",
    "f_stat, p_value_f = stats.f_oneway(df['A'], df['B'])"
   ]
  }
 ],
 "metadata": {
  "language_info": {
   "name": "python"
  }
 },
 "nbformat": 4,
 "nbformat_minor": 2
}
