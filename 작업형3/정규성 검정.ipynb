{
 "cells": [
  {
   "cell_type": "markdown",
   "metadata": {},
   "source": [
    "## 정규성 검정"
   ]
  },
  {
   "cell_type": "markdown",
   "metadata": {},
   "source": [
    "## 문제"
   ]
  },
  {
   "cell_type": "markdown",
   "metadata": {},
   "source": [
    "### 12명의 수험생이 빅데이터 분석기사 시험에서 받은 점수이다. Shapiro-Wilk 검정을 사용하여 데이터가 정규 분포를 따르는지 검증하시오\n",
    "\n",
    "- 귀무 가설(H0): 데이터는 정규 분포를 따른다.\n",
    "- 대립 가설(H1): 데이터는 정규 분포를 따르지 않는다.\n",
    "\n",
    "**Shapiro-Wilk 검정 통계량, p-value, 검증결과를 출력하시오**"
   ]
  },
  {
   "cell_type": "code",
   "execution_count": null,
   "metadata": {},
   "outputs": [],
   "source": [
    "from scipy import stats\n",
    "\n",
    "data = [75, 83, 81, 92, 68, 77, 78, 80, 85, 95, 79, 89]\n",
    "\n",
    "# Shapiro-Wilk 검정 수행\n",
    "statistic, p_value = stats.shapiro(data)\n",
    "\n",
    "# 결과 출력\n",
    "print(\"Shapiro-Wilk 검정 통계량:\", statistic)\n",
    "print(\"p-value:\", p_value)\n",
    "\n",
    "# 유의 수준 0.05에서의 검정 결과 확인\n",
    "alpha = 0.05\n",
    "if p_value > alpha:\n",
    "    print(\"귀무 가설을 기각할 수 없다. 데이터는 정규 분포를 따름\")\n",
    "else:\n",
    "    print(\"귀무 가설을 기각한다. 데이터는 정규 분포를 따르지 않음\")"
   ]
  }
 ],
 "metadata": {
  "language_info": {
   "name": "python"
  }
 },
 "nbformat": 4,
 "nbformat_minor": 2
}
