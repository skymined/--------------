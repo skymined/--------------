{
 "cells": [
  {
   "cell_type": "markdown",
   "metadata": {},
   "source": [
    "## 베르누이 분포와 이항분포"
   ]
  },
  {
   "cell_type": "markdown",
   "metadata": {},
   "source": [
    "## 문제"
   ]
  },
  {
   "cell_type": "markdown",
   "metadata": {},
   "source": [
    "1. [베르누이 분포] 다음 데이터는 100번의 시도에서 각각 성공(1) 또는 실패(0)를 나타냅니다. 이 데이터를 바탕으로 각 시도의 성공 확률을 계산하시오.\n",
    "2. [이항분포] 1번 문제에서 계산한 성공 확률을 사용하여, 100번의 시도 중 정확히 60번 성공할 확률을 계산하시오."
   ]
  },
  {
   "cell_type": "code",
   "execution_count": null,
   "metadata": {},
   "outputs": [],
   "source": [
    "import pandas as pd\n",
    "from scipy.stats import binom\n",
    "\n",
    "df = pd.read_csv(\"/kaggle/input/bigdatacertificationkr/t3_success.csv\")\n",
    "\n",
    "# 1. 베르누이 분포: 각 시도의 성공 확률 계산\n",
    "total_attempts = len(df)\n",
    "number_of_successes = df['Success'].sum()\n",
    "success_probability = number_of_successes / total_attempts\n",
    "print(success_probability)\n",
    "\n",
    "# 2. 이항 분포: 100번의 시도 중 정확히 60번 성공할 확률 계산\n",
    "n = 100  # 시도 횟수\n",
    "k = 60   # 성공 횟수\n",
    "probability_of_60_successes = binom.pmf(k, n, success_probability)\n",
    "print(probability_of_60_successes)"
   ]
  }
 ],
 "metadata": {
  "language_info": {
   "name": "python"
  }
 },
 "nbformat": 4,
 "nbformat_minor": 2
}
