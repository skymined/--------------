{
 "cells": [
  {
   "cell_type": "markdown",
   "metadata": {},
   "source": [
    "## 신뢰도, 지지도, 향상도"
   ]
  },
  {
   "cell_type": "markdown",
   "metadata": {},
   "source": [
    "## 문제"
   ]
  },
  {
   "cell_type": "markdown",
   "metadata": {},
   "source": [
    "1. '빼빼로'와 '딴짓초코'가 함께 팔린 거래의 지지도를 계산하세요.\n",
    "2. '빼빼로'가 팔린 거래 중에서 '빼빼로'와 '오징어칩'이 함께 팔린 거래의 신뢰도를 계산하세요.\n",
    "3. '빼빼로'와 '양조위빵'의 향상도를 계산하세요.\n",
    "\n",
    "- 지지도(A,B): A와 B가 함께 팔린 거래 횟수 / 전체 거래 횟수\n",
    "- 신뢰도(A->B): A와 B가 함께 팔린 거래 횟수 / A가 팔린 거래 횟수\n",
    "- 향상도(A,B): 신뢰도(A->B) / 지지도(B)"
   ]
  },
  {
   "cell_type": "code",
   "execution_count": null,
   "metadata": {},
   "outputs": [],
   "source": [
    "import pandas as pd\n",
    "\n",
    "# 데이터\n",
    "df = pd.DataFrame({\n",
    "    'transaction': [1, 2, 3, 4, 5, 6, 7, 8, 9, 10],\n",
    "    '빼빼로': [1, 0, 1, 1, 0, 1, 1, 0, 1, 1],\n",
    "    '딴짓초코': [0, 1, 1, 0, 1, 0, 1, 1, 0, 0],\n",
    "    '양조위빵': [1, 0, 0, 1, 1, 1, 0, 0, 1, 0],\n",
    "    '오징어칩': [0, 1, 1, 0, 0, 1, 0, 1, 1, 1],\n",
    "    '초코파이': [1, 1, 0, 0, 1, 0, 1, 1, 0, 0]\n",
    "})\n",
    "\n",
    "\n",
    "# 각 문제의 계산을 위한 데이터 준비\n",
    "total = df.shape[0]\n",
    "pepero = df['빼빼로'].sum()\n",
    "\n",
    "# 문제 1: 빼빼로와 딴짓초코가 함께 팔린 거래의 지지도\n",
    "pepero_and_choco = len(df[(df['빼빼로'] == 1) & (df['딴짓초코'] == 1)])\n",
    "print(pepero_and_choco / total)\n",
    "\n",
    "# 문제 2: 빼빼로가 팔린 거래 중 빼빼로와 오징어칩이 함께 팔린 거래의 신뢰도\n",
    "pepero_and_squid = len(df[(df['빼빼로'] == 1) & (df['오징어칩'] == 1)])\n",
    "print(pepero_and_squid / pepero)\n"
   ]
  },
  {
   "cell_type": "markdown",
   "metadata": {},
   "source": [
    "문제 3: 빼빼로와 양조위빵의 향상도\n",
    "- 빼빼로 선택이 양조위빵 선택에 얼마나 영향을 미쳤는지(향상도) 알아내는 것\n",
    "- 1보다 크면: 빼빼로를 선택한 그룹에서 양조위빵을 선택할 확률이 전체 평균보다 높다는 뜻.\n",
    "- 1보다 작으면: 빼빼로를 선택한 그룹에서 양조위빵을 선택할 확률이 평균보다 낮다는 뜻."
   ]
  },
  {
   "cell_type": "code",
   "execution_count": null,
   "metadata": {},
   "outputs": [],
   "source": [
    "\n",
    "pepero_and_bread = len(df[(df['빼빼로'] == 1) & (df['양조위빵'] == 1)])\n",
    "bread = df['양조위빵'].sum()\n",
    "print((pepero_and_bread / pepero) / (bread / total))"
   ]
  }
 ],
 "metadata": {
  "language_info": {
   "name": "python"
  }
 },
 "nbformat": 4,
 "nbformat_minor": 2
}
