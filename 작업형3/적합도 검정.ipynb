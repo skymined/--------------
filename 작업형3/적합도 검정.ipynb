{
 "cells": [
  {
   "cell_type": "markdown",
   "metadata": {},
   "source": [
    "## 카이제곱 적합도 검정"
   ]
  },
  {
   "cell_type": "markdown",
   "metadata": {},
   "source": []
  },
  {
   "cell_type": "markdown",
   "metadata": {},
   "source": [
    "## 문제"
   ]
  },
  {
   "cell_type": "markdown",
   "metadata": {},
   "source": [
    "고등학교에서는 졸업생들이 선택하는 대학 전공 분야의 선호도가 시간이 지남에 따라 변하지 않는다고 가정합니다. 학교 측은 최근 졸업생들의 전공 선택이 과거와 같은 패턴을 따르는지 알아보기 위해 적합도 검정을 실시하기로 결정했습니다.\n",
    "\n",
    "과거 자료에 따르면 졸업생들이 선택하는 전공의 분포는 다음과 같습니다:\n",
    "\n",
    "인문학: 20% 사회과학: 30% 자연과학: 25% 공학: 15% 기타: 10% 올해 졸업한 학생 200명의 전공 선택 분포는 다음과 같았습니다:\n",
    "\n",
    "인문학: 30명 사회과학: 60명 자연과학: 50명 공학: 40명 기타: 20명 이 데이터를 바탕으로, 졸업생들의 전공 선택 패턴이 과거와 유사한지를 알아보기 위해 카이제곱 적합도 검정을 실시해야 합니다. 유의 수준은 0.05로 설정합니다.\n",
    "\n",
    "검정 통계량?\n",
    "p-value?\n",
    "유의수준 하 귀무가설 기각 또는 채택?"
   ]
  },
  {
   "cell_type": "code",
   "execution_count": null,
   "metadata": {},
   "outputs": [],
   "source": [
    "import numpy as np\n",
    "from scipy import stats\n",
    "\n",
    "#올해 전공생들의 전공선택 수\n",
    "observed = np.array([30,60,50,40,20])\n",
    "expected_percentages = np.array([0.20,0.30,0.25,0.15,0.10])\n",
    "total = 200 #총 졸업생 수"
   ]
  },
  {
   "cell_type": "code",
   "execution_count": null,
   "metadata": {},
   "outputs": [],
   "source": [
    "# 기댓값 계산(과거 비율에 기반한 기대 전공 선택수)\n",
    "expected = expected_percentages * total\n",
    "chi2_stat, p_value = stats.chisquare(observed, expected)"
   ]
  },
  {
   "cell_type": "code",
   "execution_count": null,
   "metadata": {},
   "outputs": [],
   "source": [
    "# 유의수준 0.05에서 귀무가설 기각 여부 확인\n",
    "# 귀무가설 : 전공 선택 분포는 과거와 같다\n",
    "# 대립가설 : 전공 선택 분포는 과거와 다르다\n",
    "alpha = 0.05\n",
    "if p_value < alpha :\n",
    "    print(\"귀무가설을 기각합니다. 전공 선택 분포는 과거와 다릅니다.\")\n",
    "else : \n",
    "    print(\"귀무가설을 채택합니다. 전공 선택 분포는 과거와 같습니다.\")"
   ]
  }
 ],
 "metadata": {
  "language_info": {
   "name": "python"
  }
 },
 "nbformat": 4,
 "nbformat_minor": 2
}
